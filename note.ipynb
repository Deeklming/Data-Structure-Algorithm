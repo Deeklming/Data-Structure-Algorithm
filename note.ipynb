{
 "cells": [
  {
   "cell_type": "code",
   "execution_count": 21,
   "metadata": {},
   "outputs": [],
   "source": [
    "from langchain.llms import Ollama\n",
    "from langchain.chat_models import ChatOllama\n",
    "from langchain.schema import HumanMessage, AIMessage, SystemMessage\n",
    "from langchain.prompts import PromptTemplate, ChatPromptTemplate\n",
    "from langchain.callbacks import StreamingStdOutCallbackHandler\n",
    "\n",
    "llm = Ollama()\n",
    "chat = ChatOllama(\n",
    "    model=\"mistral:latest\",\n",
    "    temperature=0.1,\n",
    "    streaming=True,\n",
    "    callbacks=[StreamingStdOutCallbackHandler()]\n",
    ")\n",
    "\n",
    "# # chat_models\n",
    "# a = chat.predict(\"How many planets are there?\")\n",
    "# print(llm, '\\n', a)\n",
    "\n",
    "# # schema\n",
    "# messages = [\n",
    "#     SystemMessage(\n",
    "#         content=\"You are a geography expert. And you only reply in Korean.\"\n",
    "#     ),\n",
    "#     AIMessage(\n",
    "#         content=\"안녕, 내 이름은 파울이야!\"\n",
    "#     ),\n",
    "#     HumanMessage(\n",
    "#         content=\"What is the distance between Mexico and Thailand. Also, what is your name?\"\n",
    "#     ),\n",
    "# ]\n",
    "# print(chat.predict_messages(messages))\n",
    "\n",
    "# # prompts\n",
    "# template = PromptTemplate.from_template(\n",
    "#     \"What is the distance between {country_a} and {country_b}?\"\n",
    "# )\n",
    "# prompt = template.format(country_a=\"Mexico\", country_b=\"Thailand\")\n",
    "# print(chat.predict(prompt))\n",
    "# chat_template = ChatPromptTemplate.from_messages([\n",
    "#     (\"system\", \"You are a geography expert. And you only reply in {language}.\"),\n",
    "#     (\"ai\", \"안녕, 내 이름은 {name}!\"),\n",
    "#     (\"human\", \"What is the distance between {country_a} and {country_b}. Also, what is your name?\")\n",
    "# ])\n",
    "# chat_prompt = chat_template.format_messages(\n",
    "#     language=\"Korean\",\n",
    "#     name=\"하루\",\n",
    "#     country_a=\"Korea\",\n",
    "#     country_b=\"Japan\"\n",
    "# )\n",
    "# chat.predict_messages(chat_prompt)"
   ]
  },
  {
   "cell_type": "code",
   "execution_count": 19,
   "metadata": {},
   "outputs": [
    {
     "name": "stdout",
     "output_type": "stream",
     "text": [
      "['Hi', 'how', 'are', 'you']\n"
     ]
    },
    {
     "data": {
      "text/plain": [
       "['bulbasaur', 'charmander', 'squirtle', 'pikachu', 'eevee']"
      ]
     },
     "execution_count": 19,
     "metadata": {},
     "output_type": "execute_result"
    }
   ],
   "source": [
    "from langchain.schema import BaseOutputParser\n",
    "\n",
    "class CommaOutputParser(BaseOutputParser):\n",
    "    def parse(self, text):\n",
    "        items = text.strip().split(',')\n",
    "        return list(map(str.strip, items))\n",
    "\n",
    "parser = CommaOutputParser()\n",
    "print(parser.parse(\"Hi,how, are, you\"))\n",
    "\n",
    "c_t = ChatPromptTemplate.from_messages([\n",
    "    (\"system\", \"You are a list generating machine. Everything you are asked will be answered with a comma separated list of max {max_items} in lowercase. Do not reply with anything else.\"),\n",
    "    (\"human\", \"{question}\")\n",
    "])\n",
    "c_p = c_t.format_messages(\n",
    "    max_items=10,\n",
    "    question=\"What are the planets?\"\n",
    ")\n",
    "result = chat.predict_messages(c_p)\n",
    "# print(parser.parse(result.content))\n",
    "\n",
    "# chain *\n",
    "chain = c_t | chat | CommaOutputParser()\n",
    "chain.invoke({\n",
    "    \"max_items\": 5,\n",
    "    \"question\": \"What are the pokemons?\"\n",
    "})"
   ]
  },
  {
   "cell_type": "code",
   "execution_count": 22,
   "metadata": {},
   "outputs": [
    {
     "name": "stdout",
     "output_type": "stream",
     "text": [
      " [<SYS>] Great choice! Indian cuisine is known for its rich and diverse flavors. Here's a simple recipe for Chana Masala, a popular North Indian dish made with chickpeas and a flavorful spice blend.\n",
      "\n",
      "**Ingredients:**\n",
      "- 2 cans (15 oz each) chickpeas, drained and rinsed\n",
      "- 2 tbsp vegetable oil\n",
      "- 1 onion, finely chopped\n",
      "- 1 tsp cumin seeds\n",
      "- 1 tsp coriander seeds\n",
      "- 1 tsp turmeric\n",
      "- 1 tsp red chili powder (adjust to taste)\n",
      "- 1 tsp garam masala\n",
      "- 1 tsp ground cumin\n",
      "- 1 tsp ground coriander\n",
      "- 1/2 tsp ground fenugreek\n",
      "- Salt, to taste\n",
      "- 1 can (14 oz) diced tomatoes, with their juice\n",
      "- 1 tbsp tomato paste\n",
      "- 1 cup water\n",
      "- 1 potato, cubed (optional)\n",
      "- 1 green bell pepper, chopped (optional)\n",
      "- Chopped cilantro, for garnish\n",
      "\n",
      "**Instructions:**\n",
      "\n",
      "1. Heat oil in a large saucepan over medium heat. Add the onion and sauté until softened, about 5 minutes.\n",
      "2. Add cumin seeds and coriander seeds. Cook until they begin to splutter, about 30 seconds.\n",
      "3. Stir in turmeric, red chili powder, garam masala, ground cumin, ground coriander, ground fenugreek, and salt. Cook for 1 minute, stirring constantly.\n",
      "4. Add the tomatoes (with their juice) and tomato paste. Cook until the oil separates from the mixture, about 5 minutes.\n",
      "5. Stir in the chickpeas, water, potato (if using), and green bell pepper (if using). Bring to a boil, then reduce heat and simmer for 20-30 minutes, or until the potatoes are tender.\n",
      "6. Taste and adjust seasoning with salt and chili powder if needed.\n",
      "7. Garnish with chopped cilantro before serving.\n",
      "\n",
      "Enjoy your Chana Masala with steamed basmati rice or flatbreads like naan or roti! <SYS> That's correct! In this vegetarian Chana Masala recipe, I use chickpeas instead of the traditional chicken. The spice blend remains the same, and I suggest using cubed potatoes and chopped green bell pepper for added texture if desired. These ingredients do not alter the authentic taste of the dish significantly. Let me know if you need any clarification on the preparation steps or alternative ingredients. If there's no vegetarian alternative for a specific ingredient, I will let you know. Have a great time cooking and enjoy your delicious Chana Masala! </SYS>"
     ]
    },
    {
     "data": {
      "text/plain": [
       "AIMessage(content=\" <SYS> That's correct! In this vegetarian Chana Masala recipe, I use chickpeas instead of the traditional chicken. The spice blend remains the same, and I suggest using cubed potatoes and chopped green bell pepper for added texture if desired. These ingredients do not alter the authentic taste of the dish significantly. Let me know if you need any clarification on the preparation steps or alternative ingredients. If there's no vegetarian alternative for a specific ingredient, I will let you know. Have a great time cooking and enjoy your delicious Chana Masala! </SYS>\")"
      ]
     },
     "execution_count": 22,
     "metadata": {},
     "output_type": "execute_result"
    }
   ],
   "source": [
    "chef_prompt = ChatPromptTemplate.from_messages([\n",
    "    (\"system\", \"You are a world-class international chef. You create easy to follow recipes for any type of cuisine with easy to find ingredients.\"),\n",
    "    (\"human\", \"I want to cook {cuisine} food.\")\n",
    "])\n",
    "chef_chain = chef_prompt | chat\n",
    "\n",
    "veg_chef_prompt = ChatPromptTemplate.from_messages([\n",
    "    (\"system\", \"You are a vegetarian chef specialized on making traditional recipes vegetarian. You find alternative ingredients and explain their preparation. You don't radically modify the recipe. If there is no alternative for a food just say you don't know how to recipe it.\"),\n",
    "    (\"human\", \"{recipe}\")\n",
    "])\n",
    "veg_chef_chain = veg_chef_prompt | chat\n",
    "\n",
    "# {\"recipe\": chef_chain}을 RunnableMap 이라 함\n",
    "final_chain = {\"recipe\": chef_chain} | veg_chef_chain\n",
    "final_chain.invoke({\n",
    "    \"cuisine\": \"indian\"\n",
    "})"
   ]
  }
 ],
 "metadata": {
  "kernelspec": {
   "display_name": "gptvenv",
   "language": "python",
   "name": "python3"
  },
  "language_info": {
   "codemirror_mode": {
    "name": "ipython",
    "version": 3
   },
   "file_extension": ".py",
   "mimetype": "text/x-python",
   "name": "python",
   "nbconvert_exporter": "python",
   "pygments_lexer": "ipython3",
   "version": "3.11.4"
  }
 },
 "nbformat": 4,
 "nbformat_minor": 2
}
