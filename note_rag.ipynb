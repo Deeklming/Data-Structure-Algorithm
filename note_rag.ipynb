{
 "cells": [
  {
   "cell_type": "code",
   "execution_count": 7,
   "metadata": {},
   "outputs": [],
   "source": [
    "from langchain.llms.ollama import Ollama\n",
    "from langchain.chat_models import ChatOllama\n",
    "from langchain.callbacks import StreamingStdOutCallbackHandler\n",
    "\n",
    "from langchain.document_loaders import TextLoader\n",
    "from langchain.document_loaders import UnstructuredFileLoader #txt,pef,docx,jpg 등 다양한거 다 들고올 수 있음\n",
    "from langchain.text_splitter import RecursiveCharacterTextSplitter # 문서 분할용\n",
    "\n",
    "from langchain.embeddings import OllamaEmbeddings, CacheBackedEmbeddings\n",
    "from langchain.vectorstores import Chroma\n",
    "from langchain.storage import LocalFileStore\n",
    "\n",
    "cache_dir = LocalFileStore(\"./.cache/\")\n",
    "\n",
    "# RAG(Retrieval Augmented Generation, 검색 증강 생성), Document\n",
    "chat = ChatOllama(\n",
    "    # model=\"gemma:latest\",\n",
    "    # model=\"llama2:latest\",\n",
    "    model=\"mistral:latest\",\n",
    "    temperature=0.1,\n",
    "    streaming=True,\n",
    "    callbacks=[StreamingStdOutCallbackHandler()]\n",
    ")\n",
    "\n",
    "## Data Loaders and Splitters\n",
    "splitter = RecursiveCharacterTextSplitter(\n",
    "    # separators=\"\\n\",\n",
    "    chunk_size=2600,\n",
    "    chunk_overlap=100, # 앞 조각의 약간을 다음 조각에 덫붙임\n",
    ")\n",
    "loader = UnstructuredFileLoader(\"./files/mid_text_en.txt\")\n",
    "# loader.load()\n",
    "# print(loader.load_and_split(text_splitter=splitter))\n",
    "\n",
    "## Tiktoken\n",
    "splitter2 = RecursiveCharacterTextSplitter.from_tiktoken_encoder(\n",
    "    separators=\"\\n\",\n",
    "    chunk_size=2600,\n",
    "    chunk_overlap=100\n",
    ") #모델은 limit가 있어서 tiktoken단위보다 텍스트 길이로 하는것이 더 좋음\n",
    "\n",
    "## Vectors\n",
    "embedder = OllamaEmbeddings()\n",
    "\n",
    "vector1 = embedder.embed_query(\"Hi\")\n",
    "# print(len(vector1))\n",
    "vector2 = embedder.embed_documents([\n",
    "    \"hi\",\n",
    "    \"how\",\n",
    "    \"are\",\n",
    "    \"you longer sentences because\",\n",
    "])\n",
    "# print(len(vector2), len(vector2[0])) #4개의 벡터와 4096개의 차원\n",
    "\n",
    "## embed를 매번 코드를 실행할때마다 하는 것이 아니라 vectors store에 캐싱해서 써야 함\n",
    "# chroma(사용 - 로컬), FAISS, pinecone(클라우드), 다른 vector store 등\n",
    "loader2 = UnstructuredFileLoader(\"./files/mid_text_ko.txt\")\n",
    "docs = loader2.load_and_split(text_splitter=splitter2)\n",
    "cached_embeddings = CacheBackedEmbeddings.from_bytes_store(embedder, cache_dir)\n",
    "# vectorstore = Chroma.from_documents(docs, embedder)\n",
    "vectorstore = Chroma.from_documents(docs, cached_embeddings)"
   ]
  },
  {
   "cell_type": "code",
   "execution_count": null,
   "metadata": {},
   "outputs": [],
   "source": [
    "results = vectorstore.similarity_search(\"Tell me the type of weather.\") #vector store에서 검색\n",
    "print(len(results))\n",
    "results"
   ]
  },
  {
   "cell_type": "code",
   "execution_count": null,
   "metadata": {},
   "outputs": [],
   "source": [
    "from langchain.chains import RetrievalQA\n",
    "\n",
    "# RetrievalQA is Legacy\n",
    "chain = RetrievalQA.from_chain_type(\n",
    "    llm=chat,\n",
    "    chain_type=\"stuff\",\n",
    "    retriever=vectorstore.as_retriever(),\n",
    ")\n",
    "chain.run(\"Tell me the type of weather.\")"
   ]
  }
 ],
 "metadata": {
  "kernelspec": {
   "display_name": "gptvenv",
   "language": "python",
   "name": "python3"
  },
  "language_info": {
   "codemirror_mode": {
    "name": "ipython",
    "version": 3
   },
   "file_extension": ".py",
   "mimetype": "text/x-python",
   "name": "python",
   "nbconvert_exporter": "python",
   "pygments_lexer": "ipython3",
   "version": "3.11.4"
  }
 },
 "nbformat": 4,
 "nbformat_minor": 2
}
